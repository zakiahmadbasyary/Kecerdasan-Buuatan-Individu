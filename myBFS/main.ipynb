{
 "cells": [
  {
   "cell_type": "markdown",
   "metadata": {},
   "source": [
    "KECERDASAN BUATAN (METODE BFS)"
   ]
  },
  {
   "cell_type": "markdown",
   "metadata": {},
   "source": [
    "Nama        : Zaki Ahmad Basyary"
   ]
  },
  {
   "cell_type": "markdown",
   "metadata": {},
   "source": [
    "NPM : 2215061004"
   ]
  },
  {
   "cell_type": "code",
   "execution_count": null,
   "metadata": {},
   "outputs": [],
   "source": [
    "# KASUS 1\n",
    "\n",
    "peta= { 'A': set(['B','H']),\n",
    "        'B': set(['A','C','H']),\n",
    "        'C': set(['B','D','E']),\n",
    "        'D': set(['C','E','F','G','H']),\n",
    "        'E': set(['C','D']),\n",
    "        'F': set(['D','G']),\n",
    "        'G': set(['F','D','H']),\n",
    "        'H': set(['A','B','D','G'])}\n",
    "\n",
    "def bfs_lintasan_terpendek(peta, mulai, tujuan) :\n",
    "    explored=[]\n",
    "    queue = [[mulai]]\n",
    "\n",
    "    if mulai == tujuan:\n",
    "        return \"Awal adalah Tujuan\"\n",
    "    \n",
    "    while queue:\n",
    "        jalur =queue.pop(0)\n",
    "        node =jalur[-1]\n",
    "\n",
    "        if node not in explored:\n",
    "            neighbours =peta[node]\n",
    "\n",
    "            for neighbour in neighbours:\n",
    "                jalur_baru= list(jalur)\n",
    "                jalur_baru.append(neighbour)\n",
    "                queue.append(jalur_baru)\n",
    "                \n",
    "                # print (\"queue \", queue)\n",
    "                # print (\"jalur baru \", jalur_baru)\n",
    "                if neighbour == tujuan:\n",
    "                    return jalur_baru\n",
    "            \n",
    "            explored.append(node)\n",
    "\n",
    "    return \"Mohon maaf node yang anda pilih tidak ada\"\n",
    "\n",
    "mulai=input (\"Masukkan Awal: \")\n",
    "tujuan = input (\"Masukkan akhir: \")\n",
    "\n",
    "print (bfs_lintasan_terpendek(peta, mulai, tujuan))"
   ]
  },
  {
   "cell_type": "code",
   "execution_count": 5,
   "metadata": {},
   "outputs": [
    {
     "name": "stdout",
     "output_type": "stream",
     "text": [
      "['E', 'G', 'D']\n"
     ]
    }
   ],
   "source": [
    "# KASUS 2\n",
    "\n",
    "peta= { 'A': set(['B']),\n",
    "        'B': set(['A','C','D']),\n",
    "        'C': set(['B','E']),\n",
    "        'D': set(['B','H','G']),\n",
    "        'E': set(['C','F','G']),\n",
    "        'F': set(['E']),\n",
    "        'G': set(['D','E','J','I']),\n",
    "        'H': set(['D','J']),\n",
    "        'I': set(['G']),\n",
    "        'J': set(['H','G'])}\n",
    "\n",
    "def bfs_lintasan_terpendek(peta, mulai, tujuan) :\n",
    "    explored=[]\n",
    "    queue = [[mulai]]\n",
    "\n",
    "    if mulai == tujuan:\n",
    "        return \"Awal adalah Tujuan\"\n",
    "    \n",
    "    while queue:\n",
    "        jalur =queue.pop(0)\n",
    "        node =jalur[-1]\n",
    "\n",
    "        if node not in explored:\n",
    "            neighbours =peta[node]\n",
    "\n",
    "            for neighbour in neighbours:\n",
    "                if neighbour  not in explored:\n",
    "                    jalur_baru= list(jalur)\n",
    "                    jalur_baru.append(neighbour)\n",
    "                    queue.append(jalur_baru)\n",
    "                \n",
    "                    # print (\"queue \", queue)\n",
    "                    # print (\"jalur baru \", jalur_baru)\n",
    "                    if neighbour == tujuan:\n",
    "                        return jalur_baru\n",
    "\n",
    "            explored.append(node)\n",
    "\n",
    "    return \"Mohon maaf node yang anda pilih tidak ada\"\n",
    "\n",
    "mulai=input (\"Masukkan Awal: \")\n",
    "tujuan = input (\"Masukkan akhir: \")\n",
    "\n",
    "print (bfs_lintasan_terpendek(peta, mulai, tujuan))"
   ]
  }
 ],
 "metadata": {
  "kernelspec": {
   "display_name": "Python 3",
   "language": "python",
   "name": "python3"
  },
  "language_info": {
   "codemirror_mode": {
    "name": "ipython",
    "version": 3
   },
   "file_extension": ".py",
   "mimetype": "text/x-python",
   "name": "python",
   "nbconvert_exporter": "python",
   "pygments_lexer": "ipython3",
   "version": "3.11.2"
  }
 },
 "nbformat": 4,
 "nbformat_minor": 2
}
